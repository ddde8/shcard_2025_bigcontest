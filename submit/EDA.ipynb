{
 "cells": [
  {
   "cell_type": "code",
   "execution_count": null,
   "metadata": {},
   "outputs": [],
   "source": [
    "#set1_csv 파일 읽어오기\n",
    "#head 부분만 추출\n",
    "#동네별로 지도에 찍어보기\n",
    "#상권 분석 나눌 범위 정하기\n",
    "#"
   ]
  }
 ],
 "metadata": {
  "language_info": {
   "name": "python"
  },
  "orig_nbformat": 4
 },
 "nbformat": 4,
 "nbformat_minor": 2
}
